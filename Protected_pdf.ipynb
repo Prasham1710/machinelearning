{
  "nbformat": 4,
  "nbformat_minor": 0,
  "metadata": {
    "colab": {
      "provenance": [],
      "authorship_tag": "ABX9TyPHpxIpecWpDizHRXzm+V/D",
      "include_colab_link": true
    },
    "kernelspec": {
      "name": "python3",
      "display_name": "Python 3"
    },
    "language_info": {
      "name": "python"
    }
  },
  "cells": [
    {
      "cell_type": "markdown",
      "metadata": {
        "id": "view-in-github",
        "colab_type": "text"
      },
      "source": [
        "<a href=\"https://colab.research.google.com/github/Prasham1710/machinelearning/blob/main/Protected_pdf.ipynb\" target=\"_parent\"><img src=\"https://colab.research.google.com/assets/colab-badge.svg\" alt=\"Open In Colab\"/></a>"
      ]
    },
    {
      "cell_type": "code",
      "execution_count": 7,
      "metadata": {
        "id": "Cq48qdLhmg4b"
      },
      "outputs": [],
      "source": [
        "import PyPDF2\n"
      ]
    },
    {
      "cell_type": "code",
      "source": [
        "from PyPDF2 import PdfReader, PdfWriter"
      ],
      "metadata": {
        "id": "2w0l-NVanKB0"
      },
      "execution_count": 15,
      "outputs": []
    },
    {
      "cell_type": "code",
      "source": [
        "file_pdf=PdfReader('3.pdf')\n",
        "out_pdf= PdfWriter()"
      ],
      "metadata": {
        "id": "nPZFitWEmtfh"
      },
      "execution_count": 16,
      "outputs": []
    },
    {
      "cell_type": "code",
      "source": [
        "file_pdf"
      ],
      "metadata": {
        "colab": {
          "base_uri": "https://localhost:8080/"
        },
        "id": "SOZMYtm1nIEq",
        "outputId": "d63eb4d3-b1a7-4bf9-c147-0e8afeaf0ff8"
      },
      "execution_count": 17,
      "outputs": [
        {
          "output_type": "execute_result",
          "data": {
            "text/plain": [
              "<PyPDF2._reader.PdfReader at 0x7df886126740>"
            ]
          },
          "metadata": {},
          "execution_count": 17
        }
      ]
    },
    {
      "cell_type": "code",
      "source": [
        "for i in range (len(file_pdf.pages)):\n",
        "    page_details= file_pdf.pages[i]\n",
        "    out_pdf.add_page(page_details)"
      ],
      "metadata": {
        "id": "_qLBIIp_n8z9"
      },
      "execution_count": 24,
      "outputs": []
    },
    {
      "cell_type": "code",
      "source": [
        "password=\"Viral123\"\n",
        "out_pdf.encrypt(password)"
      ],
      "metadata": {
        "id": "TAaSdCrVoy6S"
      },
      "execution_count": 25,
      "outputs": []
    },
    {
      "cell_type": "code",
      "source": [
        "with open(\"encrypted3.pdf\",\"wb\") as filename:\n",
        "     out_pdf.write(filename)"
      ],
      "metadata": {
        "id": "q3I3Li6xpsg_"
      },
      "execution_count": 27,
      "outputs": []
    },
    {
      "cell_type": "code",
      "source": [],
      "metadata": {
        "id": "SF95aKWWp9Lb"
      },
      "execution_count": null,
      "outputs": []
    }
  ]
}